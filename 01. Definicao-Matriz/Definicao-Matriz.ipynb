{
 "cells": [
  {
   "cell_type": "markdown",
   "id": "85bb3259",
   "metadata": {},
   "source": [
    "---\n",
    "\n",
    "# <center>Introdução à Algebra Linear</center>\n",
    "\n",
    "---"
   ]
  },
  {
   "cell_type": "markdown",
   "id": "add3ee87",
   "metadata": {},
   "source": [
    "## Definição de Matriz Real  🐈"
   ]
  },
  {
   "cell_type": "markdown",
   "id": "a9c79c7e",
   "metadata": {},
   "source": [
    "Uma matriz real $A$ de ordem $mXn$ (m por n) é uma tabela de $m.n$ números reais, dispostos em $m$ linhas e $n$ colunas, onde $m$ e $n$ são números inteiros positivos.\n",
    "\n",
    "Uma matriz real de $m$ linhas e $n$ colunas pode ser representada por $A_{mxn}(R)$. usaremos a notação $A_{mxn}$, que se lê \"matriz $A$ $m$ por $n$\". Também podemos escrever $A = (a_{ij})$, onde $i \\in \\left\\{1, 2, ..., m \\right\\}$ é o índice de linha e $j \\in \\left\\{1, 2, ..., n \\right\\}$ é o índice de coluna, ou ainda:\n",
    "\n",
    "<center><img src=\"https://beduka.com/blog/wp-content/uploads/2019/08/matriz.jpg\" width=60%></center>"
   ]
  },
  {
   "cell_type": "markdown",
   "id": "4bc608fd",
   "metadata": {},
   "source": [
    "**Matriz com Numpy**"
   ]
  },
  {
   "cell_type": "code",
   "execution_count": 1,
   "id": "4840e456",
   "metadata": {},
   "outputs": [],
   "source": [
    "import numpy as np"
   ]
  },
  {
   "cell_type": "code",
   "execution_count": 2,
   "id": "290f9158",
   "metadata": {},
   "outputs": [
    {
     "data": {
      "text/plain": [
       "array([[2.2, 3. , 4. , 5.3],\n",
       "       [3.1, 1.9, 1.1, 3.3],\n",
       "       [1. , 2.2, 3.2, 2.3]])"
      ]
     },
     "execution_count": 2,
     "metadata": {},
     "output_type": "execute_result"
    }
   ],
   "source": [
    "# Matriz 3x4 (3-linhas, 4-colunas)\n",
    "A_3x4 = np.array([\n",
    "    [2.2, 3.0, 4.0, 5.3],\n",
    "    [3.1, 1.9, 1.1, 3.3],\n",
    "    [1.0, 2.2, 3.2, 2.3]\n",
    "])\n",
    "\n",
    "# Imprimindo a matriz de ordem 3 por 4 criada acima\n",
    "A_3x4"
   ]
  },
  {
   "cell_type": "markdown",
   "id": "a487dd3e",
   "metadata": {},
   "source": [
    "<p style=\"font-family: Georgia; text-align: justify; font-size: 16px;\">Podemos também representar os elementos de uma matriz por fórmulas, como ilustrado no exemplo abaixo: </p><br>"
   ]
  },
  {
   "cell_type": "code",
   "execution_count": 12,
   "id": "5c2f85f2",
   "metadata": {},
   "outputs": [
    {
     "name": "stdout",
     "output_type": "stream",
     "text": [
      "[[1. 3. 4.]\n",
      " [3. 4. 5.]]\n"
     ]
    }
   ],
   "source": [
    "# Definindo um array vazio\n",
    "A_2x3 = np.empty([2, 3])\n",
    "\n",
    "# Preenchendo o Array com a fórmula mostrado na imagem acima\n",
    "for i in range(2):\n",
    "    for j in range(3):\n",
    "        if i == j:\n",
    "            A_2x3[i, j] = (i+1) ** 2\n",
    "        elif i != j:\n",
    "            A_2x3[i, j] = ((i + j) + 2)\n",
    "            \n",
    "# Imprimindo a matriz criada acima\n",
    "print(A_2x3)"
   ]
  },
  {
   "cell_type": "code",
   "execution_count": null,
   "id": "2bafd401",
   "metadata": {},
   "outputs": [],
   "source": []
  }
 ],
 "metadata": {
  "kernelspec": {
   "display_name": "Python 3.10.6 64-bit",
   "language": "python",
   "name": "python3"
  },
  "language_info": {
   "codemirror_mode": {
    "name": "ipython",
    "version": 3
   },
   "file_extension": ".py",
   "mimetype": "text/x-python",
   "name": "python",
   "nbconvert_exporter": "python",
   "pygments_lexer": "ipython3",
   "version": "3.10.6"
  },
  "vscode": {
   "interpreter": {
    "hash": "916dbcbb3f70747c44a77c7bcd40155683ae19c65e1c03b4aa3499c5328201f1"
   }
  }
 },
 "nbformat": 4,
 "nbformat_minor": 5
}
