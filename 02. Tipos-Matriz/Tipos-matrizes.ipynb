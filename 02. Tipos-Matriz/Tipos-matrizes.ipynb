{
 "cells": [
  {
   "cell_type": "markdown",
   "id": "57e025c5",
   "metadata": {},
   "source": [
    "---\n",
    "\n",
    "# <center>Tipos de Matrizes</center>\n",
    "\n",
    "---\n"
   ]
  },
  {
   "cell_type": "markdown",
   "id": "16653ea5",
   "metadata": {},
   "source": [
    "## Introdução  🐗\n",
    "\n",
    "<p style=\"font-family: Georgia; text-align: justify; font-size: 16px;\">Primeiramente definiremos os tipos de matrizes dados de acordo com o número de linhas e colunas. Seja $A_{mxn} = (a_{ij})$, esta matriz pode ser:</p>"
   ]
  },
  {
   "cell_type": "code",
   "execution_count": 2,
   "id": "fe2d4260",
   "metadata": {},
   "outputs": [],
   "source": [
    "import numpy as np"
   ]
  },
  {
   "cell_type": "markdown",
   "id": "d186f490",
   "metadata": {},
   "source": [
    "## Matriz Linha  🦙\n",
    "\n",
    "<p style=\"font-family: Georgia; text-align: justify; font-size: 16px;\">Quando $m = 1$, chamamos a matriz $A_{1xn}$ de matriz linha:</p>\n",
    "\n",
    "#### $A = (a_1, a_2, ..., a_n)$\n",
    "\n",
    "<p style=\"font-family: Georgia; text-align: justify; font-size: 16px;\">A matriz linha é denominada vetor linha (ou simplesmente, vetor).</p>"
   ]
  },
  {
   "cell_type": "code",
   "execution_count": 2,
   "id": "c756df3c",
   "metadata": {},
   "outputs": [
    {
     "name": "stdout",
     "output_type": "stream",
     "text": [
      "[[1 2 3]] matriz linha\n"
     ]
    }
   ],
   "source": [
    "# Matriz linha\n",
    "print(f'{np.array([[1, 2, 3]])} matriz linha')"
   ]
  },
  {
   "cell_type": "markdown",
   "id": "8b3f975a",
   "metadata": {},
   "source": [
    "## Matriz Coluna 🦒\n",
    "\n",
    "<p style=\"font-family: Georgia; text-align: justify; font-size: 16px;\">Quando $n=1$, chamamos a matriz de matriz coluna.</p>\n",
    "\n",
    "$$\n",
    "A = \n",
    "\\begin{pmatrix}\n",
    "a_1\\\\\n",
    "a_2\\\\\n",
    ".      \\\\\n",
    ".      \\\\\n",
    ".      \\\\\n",
    "a_m\n",
    "\\end{pmatrix}\n",
    "$$\n",
    "\n",
    "<p style=\"font-family: Georgia; text-align: justify; font-size: 16px;\">A matriz coluna pode ser denominada vetor coluna</p>"
   ]
  },
  {
   "cell_type": "code",
   "execution_count": 4,
   "id": "f257f9c7",
   "metadata": {},
   "outputs": [
    {
     "name": "stdout",
     "output_type": "stream",
     "text": [
      "Matriz Coluna:\n",
      "[[1]\n",
      " [2]\n",
      " [3]\n",
      " [4]]\n"
     ]
    }
   ],
   "source": [
    "# Matriz coluna\n",
    "matriz_coluna = np.array([[1], [2], [3], [4]])\n",
    "print(f\"Matriz Coluna:\\n{matriz_coluna}\")"
   ]
  },
  {
   "cell_type": "markdown",
   "id": "c2c7cb3f",
   "metadata": {},
   "source": [
    "## Matriz Quadrada  🦔\n",
    "\n",
    "<p style=\"font-family: Georgia; text-align: justify; font-size: 16px;\">Chamamos de matriz quadrada a matriz que tem o número de linhas igual ao número de colunas, isto é, $m=n$:</p><br>\n",
    "\n",
    "$$\n",
    "A = \n",
    "\\begin{pmatrix}\n",
    "a_{1,1} & a_{1,2} &  ... & a_{1,n} \\\\\n",
    "a_{2,1} & a_{2,2} &  ... & a_{2,n} \\\\\n",
    ".        & .      &   .  &  .      \\\\\n",
    ".        & .      &   .  &  .      \\\\\n",
    ".        & .      &   .  &  .      \\\\\n",
    "a_{m,1} & a_{m,2} &  ... &  a_{n,n}\n",
    "\\end{pmatrix}\n",
    "$$\n",
    "\n",
    "<p style=\"font-family: Georgia; text-align: justify; font-size: 16px;\">Dizemos que a matriz acima é uma matriz quadrada de ordem $n$, e escrevemos apenas $A_n$.</p>"
   ]
  },
  {
   "cell_type": "markdown",
   "id": "b8feda5d",
   "metadata": {},
   "source": [
    "### <strong style=\"color: darkblue;\"> - Destacamos numa matriz quadrada $A_n = (a_{ij})$ os seguintes elementos:</strong>"
   ]
  },
  {
   "cell_type": "markdown",
   "id": "7f74b5c5",
   "metadata": {},
   "source": [
    "- <p style=\"font-family: Georgia; text-align: justify; font-size: 16px;\"><strong>Diagonal Principal</strong>: Formada pelos termos $a_{ii}$, ou seja, pelos termos onde os índices de linha e coluna são iguais.</p>\n",
    "\n",
    "- <p style=\"font-family: Georgia; text-align: justify; font-size: 16px;\"><strong>Diagonal Secundária</strong>: Formada pelos termos $a_{ij}$, onde $i+j=n+1$.</p><br><br>\n",
    "\n",
    "<center><img src=\"https://estudos.rededecisao.com.br/wp-content/uploads/sites/5/2020/09/O-que-e-matriz_Imagem_9.png\" width=40%></center>\n",
    "\n",
    "<strong style=\"color: darkred;\">Observação</strong>\n",
    "<p style=\"font-family: Georgia; text-align: justify; font-size: 16px;\">Toda matriz quadrada $A_n$, tem obrigatoriamente uma <i>diagonal principal</i> e uma <i>diagonal secundária</i>.</p>"
   ]
  },
  {
   "cell_type": "markdown",
   "id": "94f3c7e2",
   "metadata": {},
   "source": [
    "## Matrizes Quadradas Especiais\n",
    "\n",
    "<p style=\"font-family: Georgia; text-align: justify; font-size: 16px;\">Dada uma matriz quadrada $A_n = (a_{ij})$, dizemos que A é uma matriz:</p>\n",
    "\n",
    "-  <p style=\"font-family: Georgia; text-align: justify; font-size: 16px;\"><strong>Triangular superior</strong> quando $a_{ij} = 0$ se $i > j$, ou seja, possui todos elementos abaixo da diagonal principal nulos.</p>\n",
    "\n",
    "$$\n",
    "A = \n",
    "\\begin{pmatrix}\n",
    "2 & -1 &  3 & -2 \\\\\n",
    "0 & 1  &  2 &  3 \\\\\n",
    "0 & 0  &  9 &  1 \\\\\n",
    "0 & 0  & -0 &  5 \\\\\n",
    "\\end{pmatrix}\n",
    "$$"
   ]
  },
  {
   "cell_type": "code",
   "execution_count": 10,
   "id": "27fd2c66",
   "metadata": {},
   "outputs": [
    {
     "data": {
      "text/plain": [
       "array([[0, 1, 2, 3, 4],\n",
       "       [0, 1, 2, 3, 4],\n",
       "       [0, 0, 2, 3, 4],\n",
       "       [0, 0, 0, 3, 4],\n",
       "       [0, 0, 0, 0, 4]])"
      ]
     },
     "execution_count": 10,
     "metadata": {},
     "output_type": "execute_result"
    }
   ],
   "source": [
    "# Gerando uma matriz quadrada especial triangular superior\n",
    "np.triu(np.arange(5))"
   ]
  },
  {
   "cell_type": "markdown",
   "id": "11de96fc",
   "metadata": {},
   "source": [
    "<p style=\"font-family: Georgia; text-align: justify; font-size: 16px;\">Dada uma matriz quadrada $A_n = (a_{ij})$, dizemos que A é uma matriz:</p>\n",
    "\n",
    "-  <p style=\"font-family: Georgia; text-align: justify; font-size: 16px;\"><strong>Triangular inferior</strong> quando $a_{ij} = 0$ se $i < j$, ou seja, possui todos elementos abaixo da diagonal principal nulos.</p>\n",
    "\n",
    "$$\n",
    "A = \n",
    "\\begin{pmatrix}\n",
    "2  &  0  &  0 &  0 \\\\\n",
    "2  &  1  &  0 &  0 \\\\\n",
    "-3 &  3  &  9 &  0 \\\\\n",
    "2  & -2  & -5 &  7 \\\\\n",
    "\\end{pmatrix}\n",
    "$$"
   ]
  },
  {
   "cell_type": "code",
   "execution_count": null,
   "id": "fdb23bc3",
   "metadata": {},
   "outputs": [],
   "source": []
  }
 ],
 "metadata": {
  "kernelspec": {
   "display_name": "Python 3.10.6 64-bit",
   "language": "python",
   "name": "python3"
  },
  "language_info": {
   "codemirror_mode": {
    "name": "ipython",
    "version": 3
   },
   "file_extension": ".py",
   "mimetype": "text/x-python",
   "name": "python",
   "nbconvert_exporter": "python",
   "pygments_lexer": "ipython3",
   "version": "3.10.6"
  },
  "vscode": {
   "interpreter": {
    "hash": "916dbcbb3f70747c44a77c7bcd40155683ae19c65e1c03b4aa3499c5328201f1"
   }
  }
 },
 "nbformat": 4,
 "nbformat_minor": 5
}
